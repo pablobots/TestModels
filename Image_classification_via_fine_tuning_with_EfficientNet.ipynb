{
  "nbformat": 4,
  "nbformat_minor": 0,
  "metadata": {
    "colab": {
      "name": "Image classification via fine-tuning with EfficientNet",
      "provenance": [],
      "authorship_tag": "ABX9TyMqPXrYEC6mN45Nbpm5LTF1",
      "include_colab_link": true
    },
    "kernelspec": {
      "name": "python3",
      "display_name": "Python 3"
    }
  },
  "cells": [
    {
      "cell_type": "markdown",
      "metadata": {
        "id": "view-in-github",
        "colab_type": "text"
      },
      "source": [
        "<a href=\"https://colab.research.google.com/github/pablobots/private_test/blob/main/Image_classification_via_fine_tuning_with_EfficientNet.ipynb\" target=\"_parent\"><img src=\"https://colab.research.google.com/assets/colab-badge.svg\" alt=\"Open In Colab\"/></a>"
      ]
    },
    {
      "cell_type": "markdown",
      "metadata": {
        "id": "qen1gQiYFKE8"
      },
      "source": [
        "https://keras.io/examples/vision/image_classification_efficientnet_fine_tuning/\r\n"
      ]
    },
    {
      "cell_type": "code",
      "metadata": {
        "id": "JiKRsZsdFHKy"
      },
      "source": [
        ""
      ],
      "execution_count": null,
      "outputs": []
    }
  ]
}